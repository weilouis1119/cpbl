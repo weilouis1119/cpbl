{
 "cells": [
  {
   "cell_type": "markdown",
   "id": "fd0bc157",
   "metadata": {},
   "source": [
    "# 中華職棒2020上半季逐球資料整理"
   ]
  },
  {
   "cell_type": "markdown",
   "id": "0df7301d",
   "metadata": {},
   "source": [
    "打者資料整理：\n",
    "1. 關鍵時刻（至少追平分在2壘）打擊率、全壘打、長打\n",
    "2. 球數絕對落後打擊率(2好0壞 )\n",
    "3. 盜壘時機（幾好幾壞幾出局）\n",
    "\n",
    "投手資料整理：\n",
    "1. 球數絕對領先下一顆位置、好壞球\n",
    "2. 每個投手對決時刻常用球種、進壘位置（2好2壞)\n",
    "3. 後援連續出賽成績（有休息、連二、連三）"
   ]
  },
  {
   "cell_type": "code",
   "execution_count": 1,
   "id": "bdf9a0d1",
   "metadata": {},
   "outputs": [],
   "source": [
    "import pandas as pd\n",
    "import math"
   ]
  },
  {
   "cell_type": "code",
   "execution_count": 8,
   "id": "6d0bad63",
   "metadata": {},
   "outputs": [],
   "source": [
    "df = pd.read_excel('../OpenData/2020中華職棒上半季-電子紀錄程式檔-revised-20200925.xlsx', sheet_name='工作表1')"
   ]
  },
  {
   "cell_type": "code",
   "execution_count": 9,
   "id": "347eed06",
   "metadata": {},
   "outputs": [],
   "source": [
    "pd.set_option('display.max_columns', None)\n",
    "pd.set_option('display.max_rows', 10)"
   ]
  },
  {
   "cell_type": "markdown",
   "id": "6b3a1a59",
   "metadata": {},
   "source": [
    "# 打者資料整理"
   ]
  },
  {
   "cell_type": "markdown",
   "id": "e2c6a752",
   "metadata": {},
   "source": [
    "關鍵時刻（至少追平分在2壘）打擊率、全壘打、長打"
   ]
  },
  {
   "cell_type": "code",
   "execution_count": 11,
   "id": "68b0278e",
   "metadata": {},
   "outputs": [],
   "source": [
    "df = df.loc[:,['主隊得分','客隊得分','局數','Inning Half','投手','捕手','投手球數','好球數','壞球數','出局數','球速',\n",
    " '球種','打者','揮棒','結果', '一壘跑者','二壘跑者','三壘跑者','得分者','非自責分','自責分','一出局','二出局','三出局','出局','安打',\n",
    " '失誤',]]\n",
    "df.iloc[:,15:18] = df.iloc[:,15:18].astype('str')\n",
    "df.iloc[:,23] = df.iloc[:,23].astype('str')"
   ]
  },
  {
   "cell_type": "code",
   "execution_count": 24,
   "id": "474b39b3",
   "metadata": {},
   "outputs": [
    {
     "name": "stdout",
     "output_type": "stream",
     "text": [
      "CPU times: user 33.6 s, sys: 160 ms, total: 33.7 s\n",
      "Wall time: 33.8 s\n"
     ]
    }
   ],
   "source": [
    "%%time\n",
    "# 客隊挑出關鍵時刻的打席逐球\n",
    "c = 0\n",
    "KeyMoments = pd.DataFrame(columns=list(df.columns))\n",
    "for i in range(len(df)):\n",
    "    if df.iloc[i,3] == 'top':\n",
    "        score = df.iloc[i-1,0] - df.iloc[i-1,1]\n",
    "    else:\n",
    "        score = df.iloc[i-1,1] - df.iloc[i-1,0]\n",
    "    base = 0\n",
    "    if df.iloc[i-1,16] != 'nan':\n",
    "        base += 1\n",
    "    if df.iloc[i-1,17] != 'nan':\n",
    "        base += 1        \n",
    "    if (score + base) >= 0 and score <= 0 and base != 0 and df.iloc[i - 1,23] == 'nan' and df.iloc[i-1,3] == df.iloc[i,3]:\n",
    "        c +=1\n",
    "        KeyMoments = KeyMoments.append(df.iloc[i,:])"
   ]
  },
  {
   "cell_type": "code",
   "execution_count": 29,
   "id": "48901d6d",
   "metadata": {},
   "outputs": [],
   "source": [
    "# 留下該打席結果\n",
    "AtBat = pd.DataFrame(columns=list(KeyMoments.columns))\n",
    "for i in range(len(KeyMoments) - 1):\n",
    "    if KeyMoments.iloc[i, 12] != KeyMoments.iloc[i+1, 12]:\n",
    "        AtBat = AtBat.append(KeyMoments.iloc[i, :])"
   ]
  },
  {
   "cell_type": "code",
   "execution_count": 30,
   "id": "6d1ad310",
   "metadata": {},
   "outputs": [],
   "source": [
    "AtBat = AtBat[AtBat['結果'].isnull() == False]"
   ]
  },
  {
   "cell_type": "code",
   "execution_count": 31,
   "id": "5beef108",
   "metadata": {},
   "outputs": [
    {
     "data": {
      "text/plain": [
       "['四壞',\n",
       " '三振',\n",
       " '揮空三振',\n",
       " '接殺',\n",
       " '刺殺',\n",
       " '界飛接殺',\n",
       " '一壘安',\n",
       " '二壘安',\n",
       " '野手選擇',\n",
       " '雙殺打',\n",
       " '敬遠',\n",
       " '失誤',\n",
       " '全壘打',\n",
       " '高飛犧牲',\n",
       " '犧牲觸擊',\n",
       " '三壘安',\n",
       " '暴投',\n",
       " '觸身球',\n",
       " '投手犯規',\n",
       " '捕逸',\n",
       " '揮空',\n",
       " '高飛接殺',\n",
       " '平飛被接',\n",
       " '雙殺守備',\n",
       " '牽制出局',\n",
       " '不死三振']"
      ]
     },
     "execution_count": 31,
     "metadata": {},
     "output_type": "execute_result"
    }
   ],
   "source": [
    "# 查看結果有那些記錄方式\n",
    "name = []\n",
    "for i in AtBat['結果']:\n",
    "    if i not in name:\n",
    "        name.append(i)\n",
    "name"
   ]
  },
  {
   "cell_type": "code",
   "execution_count": 32,
   "id": "cee23021",
   "metadata": {},
   "outputs": [],
   "source": [
    "AtBat = AtBat.loc[:,['打者','得分者','出局','結果']]"
   ]
  },
  {
   "cell_type": "code",
   "execution_count": 36,
   "id": "d6488b1f",
   "metadata": {},
   "outputs": [],
   "source": [
    "# '打者':['打席','安打','全雷打數','長打數']\n",
    "statistics = {}\n",
    "for i in range(len(AtBat)):\n",
    "    if AtBat.iloc[i,0] not in statistics.keys():\n",
    "        statistics[AtBat.iloc[i,0]] = [0,0,0,0,0]\n",
    "    if AtBat.iloc[i,3] not in ['四壞', '失誤', '野手選擇','犧牲觸擊','高飛犧牲','觸身球','敬遠','牽制出局','揮空','捕逸','投手犯規','暴投']:\n",
    "        if AtBat.iloc[i,3] == '全壘打':\n",
    "            statistics[AtBat.iloc[i,0]][2] += 1\n",
    "        if AtBat.iloc[i,3] in ['全壘打', '二壘安', '三壘安']:\n",
    "            statistics[AtBat.iloc[i,0]][3] += 1\n",
    "        if AtBat.iloc[i,3] in ['全壘打', '二壘安', '三壘安', '一壘安']:\n",
    "            statistics[AtBat.iloc[i,0]][1] += 1\n",
    "        statistics[AtBat.iloc[i,0]][0] += 1\n",
    "        "
   ]
  },
  {
   "cell_type": "code",
   "execution_count": 37,
   "id": "4cf1499c",
   "metadata": {},
   "outputs": [],
   "source": [
    "for i in statistics:\n",
    "    if statistics[i][0] != 0:\n",
    "        statistics[i][4] = round((statistics[i][1] / statistics[i][0]),3)"
   ]
  },
  {
   "cell_type": "code",
   "execution_count": 54,
   "id": "ba428ab1",
   "metadata": {},
   "outputs": [],
   "source": [
    "df = pd.DataFrame(statistics).T\n",
    "df.columns = ['打席','安打','全壘打數','長打數','打擊率']"
   ]
  },
  {
   "cell_type": "code",
   "execution_count": 58,
   "id": "1d7b13c6",
   "metadata": {},
   "outputs": [
    {
     "data": {
      "text/html": [
       "<div>\n",
       "<style scoped>\n",
       "    .dataframe tbody tr th:only-of-type {\n",
       "        vertical-align: middle;\n",
       "    }\n",
       "\n",
       "    .dataframe tbody tr th {\n",
       "        vertical-align: top;\n",
       "    }\n",
       "\n",
       "    .dataframe thead th {\n",
       "        text-align: right;\n",
       "    }\n",
       "</style>\n",
       "<table border=\"1\" class=\"dataframe\">\n",
       "  <thead>\n",
       "    <tr style=\"text-align: right;\">\n",
       "      <th></th>\n",
       "      <th>打席</th>\n",
       "      <th>安打</th>\n",
       "      <th>全壘打數</th>\n",
       "      <th>長打數</th>\n",
       "      <th>打擊率</th>\n",
       "    </tr>\n",
       "  </thead>\n",
       "  <tbody>\n",
       "    <tr>\n",
       "      <th>統一陳傑憲</th>\n",
       "      <td>14.0</td>\n",
       "      <td>8.0</td>\n",
       "      <td>0.0</td>\n",
       "      <td>3.0</td>\n",
       "      <td>0.571</td>\n",
       "    </tr>\n",
       "    <tr>\n",
       "      <th>富邦范國宸</th>\n",
       "      <td>18.0</td>\n",
       "      <td>9.0</td>\n",
       "      <td>0.0</td>\n",
       "      <td>1.0</td>\n",
       "      <td>0.500</td>\n",
       "    </tr>\n",
       "    <tr>\n",
       "      <th>兄弟周思齊</th>\n",
       "      <td>15.0</td>\n",
       "      <td>7.0</td>\n",
       "      <td>1.0</td>\n",
       "      <td>5.0</td>\n",
       "      <td>0.467</td>\n",
       "    </tr>\n",
       "    <tr>\n",
       "      <th>富邦高國麟</th>\n",
       "      <td>15.0</td>\n",
       "      <td>7.0</td>\n",
       "      <td>0.0</td>\n",
       "      <td>3.0</td>\n",
       "      <td>0.467</td>\n",
       "    </tr>\n",
       "    <tr>\n",
       "      <th>統一吳桀睿</th>\n",
       "      <td>11.0</td>\n",
       "      <td>5.0</td>\n",
       "      <td>0.0</td>\n",
       "      <td>1.0</td>\n",
       "      <td>0.455</td>\n",
       "    </tr>\n",
       "    <tr>\n",
       "      <th>...</th>\n",
       "      <td>...</td>\n",
       "      <td>...</td>\n",
       "      <td>...</td>\n",
       "      <td>...</td>\n",
       "      <td>...</td>\n",
       "    </tr>\n",
       "    <tr>\n",
       "      <th>富邦林益全</th>\n",
       "      <td>28.0</td>\n",
       "      <td>6.0</td>\n",
       "      <td>0.0</td>\n",
       "      <td>1.0</td>\n",
       "      <td>0.214</td>\n",
       "    </tr>\n",
       "    <tr>\n",
       "      <th>統一郭阜林</th>\n",
       "      <td>10.0</td>\n",
       "      <td>2.0</td>\n",
       "      <td>0.0</td>\n",
       "      <td>2.0</td>\n",
       "      <td>0.200</td>\n",
       "    </tr>\n",
       "    <tr>\n",
       "      <th>樂天林承飛</th>\n",
       "      <td>11.0</td>\n",
       "      <td>2.0</td>\n",
       "      <td>0.0</td>\n",
       "      <td>1.0</td>\n",
       "      <td>0.182</td>\n",
       "    </tr>\n",
       "    <tr>\n",
       "      <th>兄弟王威晨</th>\n",
       "      <td>12.0</td>\n",
       "      <td>2.0</td>\n",
       "      <td>0.0</td>\n",
       "      <td>0.0</td>\n",
       "      <td>0.167</td>\n",
       "    </tr>\n",
       "    <tr>\n",
       "      <th>樂天朱育賢</th>\n",
       "      <td>13.0</td>\n",
       "      <td>2.0</td>\n",
       "      <td>0.0</td>\n",
       "      <td>0.0</td>\n",
       "      <td>0.154</td>\n",
       "    </tr>\n",
       "  </tbody>\n",
       "</table>\n",
       "<p>32 rows × 5 columns</p>\n",
       "</div>"
      ],
      "text/plain": [
       "         打席   安打  全壘打數  長打數    打擊率\n",
       "統一陳傑憲  14.0  8.0   0.0  3.0  0.571\n",
       "富邦范國宸  18.0  9.0   0.0  1.0  0.500\n",
       "兄弟周思齊  15.0  7.0   1.0  5.0  0.467\n",
       "富邦高國麟  15.0  7.0   0.0  3.0  0.467\n",
       "統一吳桀睿  11.0  5.0   0.0  1.0  0.455\n",
       "...     ...  ...   ...  ...    ...\n",
       "富邦林益全  28.0  6.0   0.0  1.0  0.214\n",
       "統一郭阜林  10.0  2.0   0.0  2.0  0.200\n",
       "樂天林承飛  11.0  2.0   0.0  1.0  0.182\n",
       "兄弟王威晨  12.0  2.0   0.0  0.0  0.167\n",
       "樂天朱育賢  13.0  2.0   0.0  0.0  0.154\n",
       "\n",
       "[32 rows x 5 columns]"
      ]
     },
     "execution_count": 58,
     "metadata": {},
     "output_type": "execute_result"
    }
   ],
   "source": [
    "df[df['打席'] >= 10].sort_values(by='打擊率', ascending=False)"
   ]
  },
  {
   "cell_type": "code",
   "execution_count": null,
   "id": "f5824fb2",
   "metadata": {},
   "outputs": [],
   "source": []
  }
 ],
 "metadata": {
  "kernelspec": {
   "display_name": "Python 3",
   "language": "python",
   "name": "python3"
  },
  "language_info": {
   "codemirror_mode": {
    "name": "ipython",
    "version": 3
   },
   "file_extension": ".py",
   "mimetype": "text/x-python",
   "name": "python",
   "nbconvert_exporter": "python",
   "pygments_lexer": "ipython3",
   "version": "3.8.8"
  }
 },
 "nbformat": 4,
 "nbformat_minor": 5
}
